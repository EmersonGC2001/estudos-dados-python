{
  "nbformat": 4,
  "nbformat_minor": 0,
  "metadata": {
    "colab": {
      "provenance": []
    },
    "kernelspec": {
      "name": "python3",
      "display_name": "Python 3"
    },
    "language_info": {
      "name": "python"
    }
  },
  "cells": [
    {
      "cell_type": "markdown",
      "source": [
        "# **Carregamento de dados**"
      ],
      "metadata": {
        "id": "i5kXJ3u823rs"
      }
    },
    {
      "cell_type": "code",
      "source": [
        "caminho_dados = \"/content/drive/MyDrive/2024_Viagem.csv\" # Carregando os dados para o google colab, no colab muitas bibliotecas já temos instaladas."
      ],
      "metadata": {
        "id": "js6NhNESQEyW"
      },
      "execution_count": null,
      "outputs": []
    },
    {
      "cell_type": "markdown",
      "source": [
        "## **Pandas**"
      ],
      "metadata": {
        "id": "3ZaVn2gr26JJ"
      }
    },
    {
      "cell_type": "code",
      "execution_count": null,
      "metadata": {
        "id": "4ksfMs7UQAqZ"
      },
      "outputs": [],
      "source": [
        "import pandas as pd        # Importando com o panda, panda é uma biblioteca de dados.\n",
        "\n",
        "                           # No google colab ela já está instalada e é só importar com (import \"nome da biblioteca\" as \"nome abreviado\")\n",
        "\n",
        "                           # nome abreviado para ficar mais facil ao chamar.\n",
        "\n",
        "\n",
        "\n",
        "df_viagens = pd.read_csv(caminho_dados, encoding=\"Windows-1252\", sep=\";\", decimal=',')        # 'DF' é um dataframe, é praticamente o mesmo que uma tabela, como se fosse uma aba do excel.\n",
        "\n",
        "                                                                                              # \"pd.read_(tipo do arquivo, ex: csv, excel(Caminho dos dados, nesse caso a variavel \"caminho_dados\"))\" é uma função do panda para ler o arquivo.\n",
        "\n",
        "                                                                                              # Erro ao ler o arquivo sempre procurar no google, normalmente seria por conta do padrão csv, como nesse caso.\n",
        "\n",
        "                                                                                              # \"encoding=(padrão do arquivo, nesse ex 'Windows-1252')\"\n",
        "\n",
        "                                                                                              # \"sep=\"separador, nesse ex ;\" esse serve identificar qual o separados está sendo usado no arquivo csv.\n",
        "\n",
        "                                                                                              # 'decinal='separador que está sendo usado como decimal', nesse ex: estamos usando ',' como decimal, não precisamos mudar toda hora\n",
        "\n",
        "\n",
        "# É importante ter o valor nulo em alguns casos para saber o que está se passando.\n",
        "# Não conseguimos ver o valor real total, porcentagens de gastos se o NaN não estiver valendo."
      ]
    },
    {
      "cell_type": "markdown",
      "source": [
        "Set_Option"
      ],
      "metadata": {
        "id": "zTrNQ78528-N"
      }
    },
    {
      "cell_type": "code",
      "source": [
        "pd.set_option('display.max_columns', None)  # pd.set_option serve para setar opções, nesse exemplo estamos colocando quantas colunas vão aparecer, e 'None' quer dizer que não tem limite, todas colunas vão aparecer, poderia também trocar por um número."
      ],
      "metadata": {
        "id": "dgKIBVBOQHEF"
      },
      "execution_count": null,
      "outputs": []
    },
    {
      "cell_type": "markdown",
      "source": [
        "# **Mudando tipos, de valores que está na coluna.**\n",
        "\n",
        "\n"
      ],
      "metadata": {
        "id": "qSqz3P_03FuI"
      }
    },
    {
      "cell_type": "code",
      "source": [
        "df_viagens['Valor diárias'] + df_viagens['Valor passagens'] + df_viagens['Valor outros gastos']  # Como nossa coluna não está como type certo (está como texto e não número).\n",
        "\n",
        "                                                                                                 # Ele não vai somar, ele vai concatenar (colar os números, juntar).\n",
        "\n",
        "                                                                                                 # Temos que transformar ela primeiro em número e depois fazer a soma novamente.\n",
        "\n",
        "\n",
        "\n",
        "df_viagens[['Valor diárias', 'Valor passagens', 'Valor outros gastos']] # Chamando as colunas que quero transformar, mas não vai alterar na original.\n",
        "\n",
        "\n",
        "\n",
        "df_viagens.info()   # Serve para ver o Dtype (o tipo dela, se é texto ou número) de cada coluna Non-Null = Quantas linhas não está preenchida.\n",
        "\n",
        "                    # Object = Provavel texto, float = valor.\n",
        "\n",
        "\n",
        "\n",
        "\n",
        "df_viagens['Valor diárias'] = df_viagens['Valor diárias'].str.replace(',', '.').astype(float)\n",
        "df_viagens['Valor devolução'] = df_viagens['Valor devolução'].str.replace(',', '.').astype(float)\n",
        "df_viagens['Valor passagens'] = df_viagens['Valor passagens'].str.replace(',', '.').astype(float)\n",
        "df_viagens['Valor outros gastos'] = df_viagens['Valor outros gastos'].str.replace(',', '.').astype(float)\n",
        "\n",
        "# Conversão manual de texto para números\n",
        "\n",
        "# O python entende que '.' quer separar os valores, ',' não é isso, por isso fica como texto.\n",
        "\n",
        "# .astype(tipo) alterar o Dtype.\n",
        "\n",
        "# Aqui estamos alterando a coluna da tabela original, colocamos ela no começo.\n",
        "\n",
        "# Se eu defini o decimal no começo, não precisava desse .astype(float) pq ela já está como float.\n",
        "\n",
        "\n",
        "\n",
        "df_viagens['Valor total de gastos'] = df_viagens['Valor diárias'] + df_viagens['Valor devolução'] + df_viagens['Valor passagens'] + df_viagens['Valor outros gastos'] # Criando uma nova coluna com todos os gastos na tabela original.\n",
        "\n",
        "                                                                                                                                                                      # Esses gastos são todos os outros somados, como no ex."
      ],
      "metadata": {
        "id": "pZAPN_nIVkOF"
      },
      "execution_count": null,
      "outputs": []
    },
    {
      "cell_type": "markdown",
      "source": [
        "# **Agrupamento com value_counts**\n"
      ],
      "metadata": {
        "id": "znJj7p_42yOd"
      }
    },
    {
      "cell_type": "code",
      "source": [
        "(df_viagens['Cargo'].value_counts(normalize=True) * 100).rename('Proporção de viagens').reset_index()     # df_viagens['Cargo'].value_counts Agrupa e conta quantas vezes aparece o mesmo nome na cula que está entre [].\n",
        "\n",
        "                                                                                                          # (normalize=True * 100) Desobrimos a proporção de cada cargo em porcentagem (%).\n",
        "\n",
        "                                                                                                          # .rename('Novo nome da coluna') Renomeia a coluna que estamos trabalhando dentro do ''. Para isso precisamos colocar o () no inicio e no final * (df_viagens - - - 100), para o rename não pegar no 100.\n",
        "\n",
        "                                                                                                          # .reser_index() Resetar o indice"
      ],
      "metadata": {
        "id": "sf9U9idPZlLr"
      },
      "execution_count": null,
      "outputs": []
    },
    {
      "cell_type": "markdown",
      "source": [
        "#**Agrupamento por grupos**"
      ],
      "metadata": {
        "id": "1rsXLfR9-CfX"
      }
    },
    {
      "cell_type": "code",
      "source": [
        "df_viagens.groupby('Cargo')['Valor outros gastos'].sum().reset_index().sort_values(by='Valor outros gastos', ascending=False)  # df_viagens.groupby('Coluna para agrupar nomes iguais') = agrupa por nome das colunas.\n",
        "\n",
        "                                                                                                                               # ['Coluna para agrupar'].sum e o .sum é o que multiplica mas também podemos usar outras como, soma, média, máxima, miníma, entre outras.\n",
        "\n",
        "                                                                                                                               # .reser_index() Resetar o indice\n",
        "\n",
        "                                                                                                                               # .sort_values(by='Coluna') Esse é para deixar a coluna em ordem de valores, ou também podemos usar sort_ outro.\n",
        "\n",
        "                                                                                                                               # ascending=False Não deixa as colunas do menor para o maior e sim do maior para o menor.\n",
        "\n",
        "pd.set_option('display.float_format', '{:.2f}'.format)  # pd.set_option setar opções no panda\n",
        "                                                        # formato do float, do número :.2f (2 números depois da , ex: 2,6666 vira 2,66)"
      ],
      "metadata": {
        "id": "c9MIse_N2pzU"
      },
      "execution_count": null,
      "outputs": []
    },
    {
      "cell_type": "markdown",
      "source": [
        "# **Filtros** - **Séries Booleanas**"
      ],
      "metadata": {
        "id": "1TFOfx2cAcg6"
      }
    },
    {
      "cell_type": "code",
      "source": [
        "#Sinais\n",
        "\n",
        "> # Maior que  10 > 5 Sim\n",
        "< # Menor Que 10 < 5 Não\n",
        "= # Igual á 10 = 5 Não\n",
        "== # Igualdade 10 == 10 Sim\n",
        "!= # Diferente 10 != Não\n",
        "\n",
        "\n",
        "viagens_por_cargo['Proporção de viagens'] > 1    # Na coluna 'Proporção de viagens' quais linhas são maior que 1.\n",
        "                                                 # Serie Booleana é a serie de verdadeiro e falso.\n",
        "\n",
        "\n",
        "\n",
        "viagens_por_cargo[filtro_mais_de_1_pct] # Transformamos Proproção de viagens > 1 em uma variavel, com essa variavel filtramos viagens_por_cargo.\n",
        "\n",
        "\n",
        "\n",
        "viagens_por_cargo['Cargo'].str.startswith('TECNICO')    .str.starswith # Estou perguntando quais linhas da coluna Cargo começam com TECNICO.\n",
        "                                                                       # Vai voltar uma serie booleana (Verdadeiro e Falso).\n",
        "\n",
        "filtro_realizada = df_viagens['Situação'].str.contains('Realizada', na=False) # Oposto do anterior, esse procura o que contem, e o na quer dizer para desconsiderar valores nulos.\n",
        "\n",
        "\n",
        "\n",
        "viagens_por_cargo[filtro_tecnico] # Tranformando qual começa com TECNICO em uma variavel e aplicando na coluna\n",
        "\n",
        "viagens_por_cargo[filtro_tecnico & filtro_mais_de_1_pct]  # Combinando os filtros em python com o '&' (E), nisso está me trazendo quais os tecnicos que tem mais de 1% em proporção de viagens.\n",
        "\n",
        "viagens_por_cargo[filtro_analista | filtro_mais_de_1_pct] # Combinando os filtros em python com o '|' (OU), nisso está me trazendo quais linhas tem tecnicos ou tem mais de 1%.\n",
        "\n",
        "\n",
        "df_cargos.loc[df_cargos['proportion'] > 0.01, 'Cargo'] # Filtrando a coluna proportion maior que 0.01 na coluna cargos com .loc, parecido com procv.\n",
        "\n",
        "df_viagens_consolidadas['Cargo'].isin([cargos_relevantes]) = # .isin (Está dentro), vendo se na variavel consolidadas, na coluna cargo tem algum cargo relevante com a proporção 0.01 nesse exemplo.\n",
        "\n",
        "filtro = df_viagens_consolidadas['Cargo'].isin(cargos_relevantes) # Filtro com cargos mais relevantes usando isin (Na coluna Cargo do df, o que está dentro de cargos relevantes (Filtro))\n",
        "\n",
        "df_viagens_consolidadas[filtro] # Apliando o filtro nas colunas de viagens consolidads"
      ],
      "metadata": {
        "id": "5D_jCqDkAe90"
      },
      "execution_count": null,
      "outputs": []
    },
    {
      "cell_type": "markdown",
      "source": [
        "# **Dados Nulos**\n",
        "\n"
      ],
      "metadata": {
        "id": "SKsVBIyp8KIl"
      }
    },
    {
      "cell_type": "code",
      "source": [
        "# NaN = Not a Number (Não tem Número), porém mesmo com textos ira aparecer se estiver vázio.\n",
        "\n",
        "df_viagens['Cargo'].value_counts(dropna=False) = # Normalmente o python exclui os valores nulos, com esse 'dropna=false', ele conta os valores nulos também.\n",
        "                                                 # É importante ter o valor nulo para saber o que está se passando, não conseguimos ver o valor real total, porcentagens de gastos se o NaN não estiver valendo.\n",
        "\n",
        "df_viagens.dropna(subset='Cargo') = # .dropna(subset='coluna') estou tirando o os dados nulos de apenas uma coluna em especifico, no exemplo cargo.\n",
        "\n",
        "\n",
        "df_viagens.fillna('Sem idenficação') = # .fillna('Nome para identificar) estou idenficando os valores nulos com outro nome. Na tabela inteira.\n",
        "\n",
        "df_viagens['Cargo'] = df_viagens['Cargo'].fillna('Sem idenficação') = # Nesse caso estamos mudando apenas os valores nulos da coluna cargo.\n"
      ],
      "metadata": {
        "id": "J2I4n0O7k254"
      },
      "execution_count": null,
      "outputs": []
    },
    {
      "cell_type": "markdown",
      "source": [
        "#**Trabalhando com Datas**"
      ],
      "metadata": {
        "id": "ZbfHK5Dc_zaU"
      }
    },
    {
      "cell_type": "code",
      "source": [
        "# dtype (Qual a forma que ele está) = Primeiro precisamos ver qual o dtype do data, e para datas existe um dtype especifico para isso chamado Datetime (Data/Tempo)\n",
        "\n",
        "df_viagens['Período - Data de início'] = pd.to_datetime(df_viagens['Período - Data de início'], format='%d/%m/%Y') = # Transformando a coluna período da tabela df_viagens em data/hora com o pd.to_datetime.\n",
        "                                                                                                                     # Como o formato está do Brasil, o python entende o americano, por isso estamos descrevendo também o formato com format='%d/%m/%Y\n",
        "\n",
        "\n",
        "\n",
        "df_viagens['Período - Data de início'].dt.month_name() = # Transformando as datas só em nome dos meses.\n",
        "\n",
        "df_viagens['Tempo de duração'] = (df_viagens['Período - Data de fim']  - df_viagens['Período - Data de início']).dt.days = # Estou subtraindo uma coluna da outra para descobrir quantos dias durou essa viagem, e criando uma coluna com os dias.\n",
        "                                                                                                                           # .dt.days convertendo para dias."
      ],
      "metadata": {
        "id": "1eSKJ8cr-g4e"
      },
      "execution_count": null,
      "outputs": []
    },
    {
      "cell_type": "markdown",
      "source": [
        "# **Agregação e filtros IMPORTANTE !!**"
      ],
      "metadata": {
        "id": "Wb6ukNlqJLSH"
      }
    },
    {
      "cell_type": "code",
      "source": [
        "  (\n",
        "    df_viagens\n",
        "    .groupby('Cargo')                                   # A coluna que quero agrupas\n",
        "    .agg(                                               # .agg Agrupando por alguma coisa.\n",
        "        desepesa_media=('Total de gastos', 'mean'),     # duração_media nome da coluna nova = o que ela vai fazer, nesse ex pegar a media de total gasto.\n",
        "        duração_média=('Tempo de duração', 'mean'),     # A media de duração de viagens por cargos.\n",
        "        despesas_totais=('Total de gastos', 'sum'),     # O total médio gasto por cargos.\n",
        "        destino_mais_frequente=('Destinos', pd.Series.mode), # O mais frequente dentro do cargo, a MODA, pd.Serie.mode é a que calcula a moda.\n",
        "        n_viagens=('Nome', 'count')                     # Contando o número de viagens, nesse caso poderia usar qualquer coluna, só para contar as linhas.\n",
        "        )\n",
        "    .reset_index()                                      # Transformando em uma coluna normal.\n",
        "    )"
      ],
      "metadata": {
        "id": "g_cmZpH4JS90"
      },
      "execution_count": null,
      "outputs": []
    },
    {
      "cell_type": "markdown",
      "source": [
        "#**Quebras**"
      ],
      "metadata": {
        "id": "epUElk9jKV7G"
      }
    },
    {
      "cell_type": "code",
      "source": [
        "# Normalmente quebramos no '.' para ficar algo organizado, sem colocando entre () o codigo inteiro ex:\n",
        "\n",
        "(\n",
        "    df_viagens\n",
        "    .groupby('Cargo')\n",
        "    .agg(\n",
        "        desepesa_media=('Total de gastos', 'mean'),\n",
        "        duração_média=('Tempo de duração', 'mean'),\n",
        "        despesas_totais=('Total de gastos', 'sum'),\n",
        "        destino_mais_frequente=('Destinos', pd.Series.mode),\n",
        "        n_viagens=('Nome', 'count')\n",
        "        )\n",
        "    .reset_index()\n",
        "    )"
      ],
      "metadata": {
        "id": "MdlAOyHSKYtc"
      },
      "execution_count": null,
      "outputs": []
    },
    {
      "cell_type": "markdown",
      "source": [
        "#**Criação de Graficos**"
      ],
      "metadata": {
        "id": "JMO1vR-edC4z"
      }
    },
    {
      "cell_type": "code",
      "source": [
        "df_final = df_final.sort_values(by= 'n_viagens', ascending=False) # Antes do gráfico podemos deixar ele mais alinhado, colocando do maior para o menor nesse caso a coluna n_viagens.\n",
        "\n",
        "\n",
        "\n",
        "df_final.plot(x='Cargo', y='n_viagens', kind='bar') # ,plot é para a criação de graficos no banda.\n",
        "                                                    # x= qual coluna vai ficar no eixo x, y= qual vai ficar no eixo y\n",
        "                                                    # kind= estamos dizendo qual tipo de grafico vamos querer para a situação, bar é barras.\n",
        "\n",
        "\n",
        "\n",
        "\n",
        "\n",
        "biblioteca matplotlib, biblioteca para deixar os gráficos mais bonitos, existem mais mas ela é a mais consolidada e antiga.\n",
        "\n",
        "import matplotlib.pyplot as plt # Importando a biblioteca matplotlib.pylot e chamando ela de plt. (Também já está instalada no colab)\n",
        "\n",
        "\n",
        "\n",
        "fig, ax = plt.subplots(figsize=(16, 6)) = # fig e ax são conceitos, fig (figura) e ax é onde plota o gráfico, podemos ter varios ax é o espaço do quadrado.\n",
        "                                          # Dessa forma estamos gerando uma figura com grafico no meio, figsize estamos passando o tamanho dessa figura.\n",
        "\n",
        "\n",
        "\n",
        "ax.barh(df_final['Cargo'], df_final['n_viagens'], color='red') # Estamos fazendo um codigo de barras, com a coluna Cargo no x e n_viagens no y.\n",
        "                                                  # Bar e barh, testar para ver qual  melhor se encaixa nesse caso seria o barh.\n",
        "                                                  # Color= estamos alterando a cor do grafico, as linhas.\n",
        "\n",
        "ax.set_facecolor('Grey') #Alterando a cor do fundo do gráfico.\n",
        "\n",
        "\n",
        "\n",
        "plt.xlabel('Número de viagens') =  #Escolhemos um \"titulo\" para o eixo x, nese caso número de viagens\n",
        "\n",
        "\n",
        "\n",
        "fig.suptitle('Viagens por cargo público 2024') # Coloando um titulo.\n",
        "\n",
        "\n",
        "\n",
        "ax.invert_yaxis() # Invertendo o eixo y do gráfico, mesmo sem o ascending. Com o matplotlib\n",
        "\n",
        "\n",
        "\n",
        "plt.grid(color='grey', linestyle='--', linewidth=0.5) # Decidindo as cores com color, lilestyle as linhas que quero e a grossura da linha com linewidth\n",
        "\n",
        "\n",
        "\n",
        "plt.yticks(fontsize=8) # Decidindo o tamanho das letras, e números das colunas do eixo x e y.\n",
        "\n",
        "\n",
        "\n",
        "plt.figtext(0.65, 0.89, 'Fonte: Portal da transparência', fontsize=10) #Adicionando um subtitulo no melhor lugar, nesse caso 0.65, 0.89, o nome que quero colocar e fontsige do tamanho das letras.\n",
        "\n",
        "\n",
        "\n",
        "plt.show() # Exibindo o gráfico\n",
        "\n",
        "\n",
        "\n",
        "\n",
        "# Outro exemplo, podemos brincar com esses gráficos e personalização de cada parte.\n",
        "\n",
        "caminho_figura = \"/content/drive/MyDrive/output/figura.png\"\n",
        "\n",
        "fig, ax = plt.subplots(figsize=(16, 6))\n",
        "ax.barh(df_final['Cargo'], df_final['desepesa_media'], color='grey')\n",
        "ax.set_facecolor('white')\n",
        "ax.invert_yaxis()\n",
        "fig.suptitle('Despesas média em viagens por cargo público 2024')\n",
        "plt.figtext(0.65, 0.89, 'Fonte: Portal da transparência', fontsize=10)\n",
        "plt.grid(color='black', linestyle='--', linewidth=0.2)\n",
        "plt.xlabel('Valor médio gasto')\n",
        "plt.yticks(fontsize=8)\n",
        "\n",
        "plt.savefig(caminho_figura)\n",
        "\n",
        "plt.show()"
      ],
      "metadata": {
        "id": "vYECU-iBdFkC"
      },
      "execution_count": null,
      "outputs": []
    },
    {
      "cell_type": "markdown",
      "source": [
        "# **Mais exemplos de gráficos**"
      ],
      "metadata": {
        "id": "KpyxtC9LxsqF"
      }
    },
    {
      "cell_type": "code",
      "source": [
        "fig, ax = plt.subplots(figsize=(16, 6))   # Criando a figura.\n",
        "\n",
        "ax.scatter(df_viagens['Tempo de duração'], df_viagens['Total de gastos'], alpha=0.1) # Escolhendo o tipo do gráfico e quais colunas vamos usar, nesse ex scartter - pontinhos.\n",
        "                                                                                     #  alpha=0.1 quer dizer que quero o gráfico onde tem menos volume com os pontos mais transparentes, vai de 0 a 1\n",
        "ax.set_xlim(0, 100) # Dando zoom no eixo x, colocando um limte\n",
        "\n",
        "ax.set_ylim(50000, 500000) # Dando zoom no eixo y, colocando um limte\n",
        "\n"
      ],
      "metadata": {
        "id": "FxdCpXqDlFRR"
      },
      "execution_count": null,
      "outputs": []
    },
    {
      "cell_type": "markdown",
      "source": [
        "# **Comparação**"
      ],
      "metadata": {
        "id": "QILvc6YlYrlD"
      }
    },
    {
      "cell_type": "code",
      "source": [
        "caminho_dados_passgem = '/content/drive/MyDrive/2024_Passagem.csv'\n",
        "df_passagem = pd.read_csv(caminho_dados_passgem, encoding=\"Windows-1252\", sep=\";\", decimal=',')  #Importando outro caminho, esse de passagens.\n",
        "\n",
        "\n",
        " df_passagem[df_passagem['Identificador do processo de viagem'] == 20109417]  # Filtrando para encontrar algo que tenha na tabela anterior nessa.\n",
        "\n",
        "\n",
        "\n",
        " df_viagens.merge(df_passagem) # Juntar duas tabelas, dois dataframes df. também podemos escolher a coluna especifica\n",
        "\n",
        "\n",
        "\n",
        "\n",
        " df_combinado = df_viagens.merge(\n",
        "    df_passagem,\n",
        "    on='Identificador do processo de viagem',\n",
        "    how='left'  # Combinando alguma coluna em especifico.\n",
        ")\n"
      ],
      "metadata": {
        "id": "ipZsMeE2Yt8V"
      },
      "execution_count": null,
      "outputs": []
    },
    {
      "cell_type": "markdown",
      "source": [
        "#**Saida do arquivo para o computador**"
      ],
      "metadata": {
        "id": "xv63OzCrcYJp"
      }
    },
    {
      "cell_type": "code",
      "source": [
        "caminho_saida = \"/content/drive/MyDrive/output/tabela.xlsx\" # Escreve /output que é a pasta dentro do MyDrive que vamos salvar e /tabela.xlsx que é o nome do arquivo e o formato que eu gostaria.\n",
        "\n",
        "df_final.to_excel(caminho_saida) # Para baixar no computador, na pasta que escolhemos, podemos passar em muitos formados ex, .csv, entec...\n",
        "\n",
        "df_final.to_excel(caminho_saida, index=False) # Caso queira que não apareça o index.\n",
        "\n",
        "\n",
        "# Figuras/Gráficos\n",
        "\n",
        "caminho_figura = \"/content/drive/MyDrive/output/figura.png\" # Adicionar antes de tudo, logo depois de importar.\n",
        "\n",
        "plt.savefig(caminho_figura, bbox_inches='tight') # Adicionar depois de tudo, sem mostrar o graficos com plt.show()\n",
        "                                                 # bbox_inches='tight para encaixar a figura, não sobrar tantos espaços, etc...\n",
        "\n",
        "\n"
      ],
      "metadata": {
        "id": "2Cl56tFFalYG"
      },
      "execution_count": null,
      "outputs": []
    }
  ]
}